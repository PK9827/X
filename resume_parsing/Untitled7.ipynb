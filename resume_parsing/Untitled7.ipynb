{
 "cells": [
  {
   "cell_type": "code",
   "execution_count": 2,
   "id": "60f00c23-ecb1-46db-8aab-e855a98259a4",
   "metadata": {},
   "outputs": [],
   "source": [
    "import spacy\n",
    "import pickle\n",
    "import random"
   ]
  },
  {
   "cell_type": "code",
   "execution_count": 4,
   "id": "e9eb30a0-a0ba-4c25-9df0-e120e4524590",
   "metadata": {},
   "outputs": [
    {
     "data": {
      "text/plain": [
       "('Govardhana K Senior Software Engineer  Bengaluru, Karnataka, Karnataka - Email me on Indeed: indeed.com/r/Govardhana-K/ b2de315d95905b68  Total IT experience 5 Years 6 Months Cloud Lending Solutions INC 4 Month • Salesforce Developer Oracle 5 Years 2 Month • Core Java Developer Languages Core Java, Go Lang Oracle PL-SQL programming, Sales Force Developer with APEX.  Designations & Promotions  Willing to relocate: Anywhere  WORK EXPERIENCE  Senior Software Engineer  Cloud Lending Solutions -  Bangalore, Karnataka -  January 2018 to Present  Present  Senior Consultant  Oracle -  Bangalore, Karnataka -  November 2016 to December 2017  Staff Consultant  Oracle -  Bangalore, Karnataka -  January 2014 to October 2016  Associate Consultant  Oracle -  Bangalore, Karnataka -  November 2012 to December 2013  EDUCATION  B.E in Computer Science Engineering  Adithya Institute of Technology -  Tamil Nadu  September 2008 to June 2012  https://www.indeed.com/r/Govardhana-K/b2de315d95905b68?isid=rex-download&ikw=download-top&co=IN https://www.indeed.com/r/Govardhana-K/b2de315d95905b68?isid=rex-download&ikw=download-top&co=IN   SKILLS  APEX. (Less than 1 year), Data Structures (3 years), FLEXCUBE (5 years), Oracle (5 years), Algorithms (3 years)  LINKS  https://www.linkedin.com/in/govardhana-k-61024944/  ADDITIONAL INFORMATION  Technical Proficiency:  Languages: Core Java, Go Lang, Data Structures & Algorithms, Oracle PL-SQL programming, Sales Force with APEX. Tools: RADTool, Jdeveloper, NetBeans, Eclipse, SQL developer, PL/SQL Developer, WinSCP, Putty Web Technologies: JavaScript, XML, HTML, Webservice  Operating Systems: Linux, Windows Version control system SVN & Git-Hub Databases: Oracle Middleware: Web logic, OC4J Product FLEXCUBE: Oracle FLEXCUBE Versions 10.x, 11.x and 12.x  https://www.linkedin.com/in/govardhana-k-61024944/',\n",
       " {'entities': [(1749, 1755, 'Companies worked at'),\n",
       "   (1696, 1702, 'Companies worked at'),\n",
       "   (1417, 1423, 'Companies worked at'),\n",
       "   (1356, 1793, 'Skills'),\n",
       "   (1209, 1215, 'Companies worked at'),\n",
       "   (1136, 1248, 'Skills'),\n",
       "   (928, 932, 'Graduation Year'),\n",
       "   (858, 889, 'College Name'),\n",
       "   (821, 856, 'Degree'),\n",
       "   (787, 791, 'Graduation Year'),\n",
       "   (744, 750, 'Companies worked at'),\n",
       "   (722, 742, 'Designation'),\n",
       "   (658, 664, 'Companies worked at'),\n",
       "   (640, 656, 'Designation'),\n",
       "   (574, 580, 'Companies worked at'),\n",
       "   (555, 573, 'Designation'),\n",
       "   (470, 493, 'Companies worked at'),\n",
       "   (444, 469, 'Designation'),\n",
       "   (308, 314, 'Companies worked at'),\n",
       "   (234, 240, 'Companies worked at'),\n",
       "   (175, 198, 'Companies worked at'),\n",
       "   (93, 137, 'Email Address'),\n",
       "   (39, 48, 'Location'),\n",
       "   (13, 38, 'Designation'),\n",
       "   (0, 12, 'Name')]})"
      ]
     },
     "execution_count": 4,
     "metadata": {},
     "output_type": "execute_result"
    }
   ],
   "source": [
    "train_data = pickle.load(open('train_data.pkl', 'rb'))\n",
    "train_data[0]"
   ]
  },
  {
   "cell_type": "code",
   "execution_count": 12,
   "id": "713550d9-f781-4af1-a518-e67465e6a213",
   "metadata": {},
   "outputs": [],
   "source": [
    "import spacy\n",
    "import random\n",
    "\n",
    "nlp = spacy.blank('en')\n",
    "\n",
    "def train_model(train_data):\n",
    "    if 'ner' not in nlp.pipe_names:\n",
    "        ner = nlp.add_pipe('ner', last=True)\n",
    "    \n",
    "    for _, annotation in train_data:\n",
    "        for ent in annotation['entities']:\n",
    "            ner.add_label(ent[2])\n",
    "            \n",
    "    other_pipes = [pipe for pipe in nlp.pipe_names if pipe != 'ner']\n",
    "    with nlp.disable_pipes(*other_pipes):  # only train NER\n",
    "        optimizer = nlp.begin_training()\n",
    "        for itn in range(10):\n",
    "            print(\"Starting iteration \" + str(itn))\n",
    "            random.shuffle(train_data)\n",
    "            losses = {}\n",
    "            for text, annotations in train_data:\n",
    "                try:\n",
    "                    nlp.update(\n",
    "                        [text],  # batch of texts\n",
    "                        [annotations],  # batch of annotations\n",
    "                        drop=0.2,  # dropout - make it harder to memorise data\n",
    "                        sgd=optimizer,  # callable to update weights\n",
    "                        losses=losses)\n",
    "                except Exception as e:\n",
    "                    print(f\"Error updating model for text: {text}, Error: {e}\")\n",
    "                \n",
    "            print(losses)\n",
    "\n",
    "# Example usage (assuming train_data is defined appropriately):\n",
    "# train_model(train_data)\n"
   ]
  },
  {
   "cell_type": "code",
   "execution_count": 14,
   "id": "26916df5-7480-4490-bec0-9cc8adc8d66a",
   "metadata": {},
   "outputs": [
    {
     "name": "stderr",
     "output_type": "stream",
     "text": [
      "IOPub data rate exceeded.\n",
      "The Jupyter server will temporarily stop sending output\n",
      "to the client in order to avoid crashing it.\n",
      "To change this limit, set the config variable\n",
      "`--ServerApp.iopub_data_rate_limit`.\n",
      "\n",
      "Current values:\n",
      "ServerApp.iopub_data_rate_limit=1000000.0 (bytes/sec)\n",
      "ServerApp.rate_limit_window=3.0 (secs)\n",
      "\n"
     ]
    }
   ],
   "source": [
    "train_model(train_data)"
   ]
  },
  {
   "cell_type": "code",
   "execution_count": 10,
   "id": "5fdaea03-eeba-4e11-93df-636cf804f3f7",
   "metadata": {},
   "outputs": [],
   "source": [
    "nlp.to_disk('nlp_model')"
   ]
  },
  {
   "cell_type": "code",
   "execution_count": 12,
   "id": "432c317c-5946-47bb-87f8-f3844bb77368",
   "metadata": {},
   "outputs": [],
   "source": [
    "nlp_model = spacy.load('nlp_model')"
   ]
  },
  {
   "cell_type": "code",
   "execution_count": 14,
   "id": "817015ba-9dd9-4578-90df-7da1a8a1c30a",
   "metadata": {},
   "outputs": [
    {
     "data": {
      "text/plain": [
       "'Sai Dhir - Email me on Indeed: indeed.com/r/Sai-Dhir/e6ed06ed081f04cf  WORK EXPERIENCE  Sasken Technologies Pvt. Ltd -  Pune, Maharashtra -  January 2017 to Present  ORACLE -  January 2011 to Present  STP is basically a router that realys ss7 messages through various signally points. In project all STPs were replaced by ORACLE STP due to its advanced features, high end support, flexibility. The STP is connected to adjacent SEPs and STPs via signaling links. Based on the address fields of the SS7 messages, the STP routes the messages to the appropriate outgoing signaling link.  Client: ORACLE Team Size: 4 Role: fetching data, analyzing, monitoring, troubleshooting Technologies: filezilla, putty Major Development ➢ Currently working on External Browser Integration for the Payment Gateway ➢ Multiple Shipping methods Inside Order Invoice  ORACLE -  Gurgaon, Haryana -  October 2016 to January 2017  Karizma Order Manager & Karizma Order System  ORACLE -  March 2011 to October 2011  Stamp Duty means a tax payable on certain legal documents specified by statute; the duty may be fixed or ad valorem meaning that the tax paid as a stamp duty may be a fixed amount or an amount which varies based on the value of the products, services or property on which it is levied. It is basically a kind of tax paid on any transaction based on exchange of documents or execution of instruments.  Client: Max Life Insurance Team Size: 4 Role: Business Analyst, Testing and Bug Fixing. Technologies: Group Asia Major Development ➢ Reading of the new requirements and have a thorough knowledge regarding the functionality and generating test case regarding it.  https://www.indeed.com/r/Sai-Dhir/e6ed06ed081f04cf?isid=rex-download&ikw=download-top&co=IN   PMJJ BY: PMJJBY (Pradhan Mantri Jeevan Jyoti Bima Yojana) is a one year Life insurance scheme, auto renewed every year, offering coverage for death due to any reason. The PMJJBY scheme is available to anyone between 18 and 50 years of age and with a CSB Savings bank account. The main administrator within the scheme could be life insurance corporation in addition to hardly any other insurance providers who will be able to give similar benefits under the scheme Team Size: 4 Role: business analyst, testing Technologies: group asia  EDUCATION  Client-Server Architecture  CDAC -  Mohali, Punjab  January 2017 to Present  Bachelor of Engineering in Engineering  Punjab Technical University (PTU) Jalhandar  2012 to 2016  B.E  Punjab Technical University  2012 to 2016  Android  CDAC Mohali -  Mohali, Punjab  SKILLS  CHANGE MANAGEMENT (Less than 1 year), Configuration Management (Less than 1 year), Git (Less than 1 year), Incident Management (Less than 1 year), Linux (Less than 1 year)  ADDITIONAL INFORMATION  Operating Systems Windows 7, ubuntu Linux Configuration Management Git, svn Incident Management IBM i series 400  Domain insurance  Platform - Windows  Framework-Group Asia  Domian Telecom    Domain telecom  Platform-windows  Framework-filezilla, putty'"
      ]
     },
     "execution_count": 14,
     "metadata": {},
     "output_type": "execute_result"
    }
   ],
   "source": [
    "train_data[0][0]"
   ]
  },
  {
   "cell_type": "code",
   "execution_count": 16,
   "id": "6e3f6d4a-a1b6-4e5a-af93-160df1fff464",
   "metadata": {},
   "outputs": [],
   "source": [
    "doc = nlp_model(train_data[0][0])\n",
    "for ent in doc.ents:\n",
    "    print(f'{ent.label_.upper():{30}}- {ent.text}')"
   ]
  },
  {
   "cell_type": "code",
   "execution_count": 20,
   "id": "8fdd9e4d-c96c-4471-8d09-75453c3faa4c",
   "metadata": {},
   "outputs": [
    {
     "name": "stdout",
     "output_type": "stream",
     "text": [
      "Collecting PyMuPDF\n",
      "  Downloading PyMuPDF-1.24.5-cp311-none-win_amd64.whl.metadata (3.4 kB)\n",
      "Collecting PyMuPDFb==1.24.3 (from PyMuPDF)\n",
      "  Downloading PyMuPDFb-1.24.3-py3-none-win_amd64.whl.metadata (1.4 kB)\n",
      "Downloading PyMuPDF-1.24.5-cp311-none-win_amd64.whl (3.2 MB)\n",
      "   ---------------------------------------- 0.0/3.2 MB ? eta -:--:--\n",
      "   ---------------------------------------- 0.0/3.2 MB ? eta -:--:--\n",
      "   ---------------------------------------- 0.0/3.2 MB ? eta -:--:--\n",
      "   ---------------------------------------- 0.0/3.2 MB 330.3 kB/s eta 0:00:10\n",
      "    --------------------------------------- 0.0/3.2 MB 281.8 kB/s eta 0:00:12\n",
      "   - -------------------------------------- 0.1/3.2 MB 525.1 kB/s eta 0:00:06\n",
      "   - -------------------------------------- 0.2/3.2 MB 657.6 kB/s eta 0:00:05\n",
      "   --- ------------------------------------ 0.3/3.2 MB 983.0 kB/s eta 0:00:04\n",
      "   ---- ----------------------------------- 0.4/3.2 MB 1.3 MB/s eta 0:00:03\n",
      "   ------ --------------------------------- 0.6/3.2 MB 1.7 MB/s eta 0:00:02\n",
      "   ---------- ----------------------------- 0.8/3.2 MB 2.2 MB/s eta 0:00:02\n",
      "   ------------- -------------------------- 1.1/3.2 MB 2.5 MB/s eta 0:00:01\n",
      "   --------------------- ------------------ 1.7/3.2 MB 3.5 MB/s eta 0:00:01\n",
      "   --------------------------- ------------ 2.2/3.2 MB 4.1 MB/s eta 0:00:01\n",
      "   ---------------------------------- ----- 2.8/3.2 MB 4.8 MB/s eta 0:00:01\n",
      "   ---------------------------------------  3.2/3.2 MB 5.2 MB/s eta 0:00:01\n",
      "   ---------------------------------------- 3.2/3.2 MB 4.9 MB/s eta 0:00:00\n",
      "Downloading PyMuPDFb-1.24.3-py3-none-win_amd64.whl (12.4 MB)\n",
      "   ---------------------------------------- 0.0/12.4 MB ? eta -:--:--\n",
      "   --- ------------------------------------ 1.1/12.4 MB 35.3 MB/s eta 0:00:01\n",
      "   ------ --------------------------------- 2.0/12.4 MB 25.6 MB/s eta 0:00:01\n",
      "   --------- ------------------------------ 3.0/12.4 MB 23.8 MB/s eta 0:00:01\n",
      "   ----------- ---------------------------- 3.6/12.4 MB 21.1 MB/s eta 0:00:01\n",
      "   ------------ --------------------------- 3.9/12.4 MB 17.7 MB/s eta 0:00:01\n",
      "   ------------- -------------------------- 4.1/12.4 MB 17.3 MB/s eta 0:00:01\n",
      "   -------------- ------------------------- 4.4/12.4 MB 14.1 MB/s eta 0:00:01\n",
      "   ----------------- ---------------------- 5.3/12.4 MB 14.8 MB/s eta 0:00:01\n",
      "   ---------------------- ----------------- 6.9/12.4 MB 16.9 MB/s eta 0:00:01\n",
      "   -------------------------- ------------- 8.4/12.4 MB 18.5 MB/s eta 0:00:01\n",
      "   ------------------------------ --------- 9.4/12.4 MB 18.7 MB/s eta 0:00:01\n",
      "   -------------------------------- ------- 10.0/12.4 MB 18.4 MB/s eta 0:00:01\n",
      "   ---------------------------------- ----- 10.7/12.4 MB 17.3 MB/s eta 0:00:01\n",
      "   ------------------------------------- -- 11.7/12.4 MB 17.2 MB/s eta 0:00:01\n",
      "   ---------------------------------------  12.4/12.4 MB 17.7 MB/s eta 0:00:01\n",
      "   ---------------------------------------  12.4/12.4 MB 17.7 MB/s eta 0:00:01\n",
      "   ---------------------------------------- 12.4/12.4 MB 15.6 MB/s eta 0:00:00\n",
      "Installing collected packages: PyMuPDFb, PyMuPDF\n",
      "Successfully installed PyMuPDF-1.24.5 PyMuPDFb-1.24.3\n",
      "Note: you may need to restart the kernel to use updated packages.\n"
     ]
    }
   ],
   "source": [
    "pip install PyMuPDF"
   ]
  },
  {
   "cell_type": "code",
   "execution_count": 22,
   "id": "2579ebb4-94c1-4e10-837b-ed332ef684f3",
   "metadata": {},
   "outputs": [
    {
     "ename": "AttributeError",
     "evalue": "'Page' object has no attribute 'getText'",
     "output_type": "error",
     "traceback": [
      "\u001b[1;31m---------------------------------------------------------------------------\u001b[0m",
      "\u001b[1;31mAttributeError\u001b[0m                            Traceback (most recent call last)",
      "Cell \u001b[1;32mIn[22], line 6\u001b[0m\n\u001b[0;32m      4\u001b[0m text \u001b[38;5;241m=\u001b[39m \u001b[38;5;124m\"\u001b[39m\u001b[38;5;124m\"\u001b[39m\n\u001b[0;32m      5\u001b[0m \u001b[38;5;28;01mfor\u001b[39;00m page \u001b[38;5;129;01min\u001b[39;00m doc:\n\u001b[1;32m----> 6\u001b[0m     text \u001b[38;5;241m=\u001b[39m text \u001b[38;5;241m+\u001b[39m \u001b[38;5;28mstr\u001b[39m(page\u001b[38;5;241m.\u001b[39mgetText())\n\u001b[0;32m      7\u001b[0m tx \u001b[38;5;241m=\u001b[39m \u001b[38;5;124m\"\u001b[39m\u001b[38;5;124m \u001b[39m\u001b[38;5;124m\"\u001b[39m\u001b[38;5;241m.\u001b[39mjoin(text\u001b[38;5;241m.\u001b[39msplit(\u001b[38;5;124m'\u001b[39m\u001b[38;5;130;01m\\n\u001b[39;00m\u001b[38;5;124m'\u001b[39m))\n\u001b[0;32m      8\u001b[0m \u001b[38;5;28mprint\u001b[39m(tx)\n",
      "\u001b[1;31mAttributeError\u001b[0m: 'Page' object has no attribute 'getText'"
     ]
    }
   ],
   "source": [
    "import sys, fitz\n",
    "fname = 'resume.pdf'\n",
    "doc = fitz.open(fname)\n",
    "text = \"\"\n",
    "for page in doc:\n",
    "    text = text + str(page.getText())\n",
    "tx = \" \".join(text.split('\\n'))\n",
    "print(tx)"
   ]
  },
  {
   "cell_type": "code",
   "execution_count": null,
   "id": "a7b94c7a-4a2f-4f2b-b23d-89b757f264d1",
   "metadata": {},
   "outputs": [],
   "source": []
  }
 ],
 "metadata": {
  "kernelspec": {
   "display_name": "Python 3 (ipykernel)",
   "language": "python",
   "name": "python3"
  },
  "language_info": {
   "codemirror_mode": {
    "name": "ipython",
    "version": 3
   },
   "file_extension": ".py",
   "mimetype": "text/x-python",
   "name": "python",
   "nbconvert_exporter": "python",
   "pygments_lexer": "ipython3",
   "version": "3.11.7"
  }
 },
 "nbformat": 4,
 "nbformat_minor": 5
}
